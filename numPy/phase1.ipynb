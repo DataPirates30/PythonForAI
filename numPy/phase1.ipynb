{
 "cells": [
  {
   "cell_type": "markdown",
   "metadata": {},
   "source": [
    "# Numpy array and basics\n"
   ]
  },
  {
   "cell_type": "code",
   "execution_count": null,
   "metadata": {},
   "outputs": [
    {
     "name": "stdout",
     "output_type": "stream",
     "text": [
      "Python list:  [1, 2, 3, 4, 5]\n",
      "Python array:  [1, 2, 3, 4, 5]\n"
     ]
    }
   ],
   "source": [
    "import numpy as np\n",
    "\n",
    "py_list = [1,2,3,4,5]\n",
    "print(\"Python list: \",py_list)\n",
    "\n",
    "np_array = np.array([1,2,3,4,5])\n",
    "print(\"Python array: \",np_array)"
   ]
  },
  {
   "cell_type": "markdown",
   "metadata": {},
   "source": [
    "### Multiplying nparray vs list\n",
    "\n"
   ]
  },
  {
   "cell_type": "code",
   "execution_count": 5,
   "metadata": {},
   "outputs": [
    {
     "name": "stdout",
     "output_type": "stream",
     "text": [
      "Python list multiplication:  [1, 2, 3, 4, 5, 1, 2, 3, 4, 5, 1, 2, 3, 4, 5]\n",
      "Python array multiplication:  [ 2  4  6  8 10]\n"
     ]
    }
   ],
   "source": [
    "py_list = [1,2,3,4,5]\n",
    "np_array = np.array([1,2,3,4,5])\n",
    "print(\"Python list multiplication: \",py_list*3)\n",
    "print(\"Python array multiplication: \",np_array*2)"
   ]
  },
  {
   "cell_type": "markdown",
   "metadata": {},
   "source": [
    "# Difference between numpy array and list\n"
   ]
  },
  {
   "cell_type": "markdown",
   "metadata": {},
   "source": [
    "#### 1.Numpy array are vectorized operation(that means a single instruction can be performed on multiple data parallely)\n",
    "#### 2.Whereas, list operation are done using loops(iterations) which are really slow\n",
    "#### Below, I have measured the run time for numpy vs list"
   ]
  },
  {
   "cell_type": "code",
   "execution_count": 12,
   "metadata": {},
   "outputs": [
    {
     "name": "stdout",
     "output_type": "stream",
     "text": [
      "Total Time Taken by python list:  0.04517555236816406\n",
      "Total Time Taken by numpy array:  0.0018181800842285156\n"
     ]
    }
   ],
   "source": [
    "import numpy as np\n",
    "import time\n",
    "\n",
    "size = 10**6\n",
    "py_list = list(range(size))\n",
    "np_array = np.arange(size)\n",
    "\n",
    "# I want to add 1 to each number in my array\n",
    "# Let's first add 1 to my python list and measure the time needed for that\n",
    "start_time = time.time()\n",
    "py_list = [x*2 for x in py_list]\n",
    "end_time = time.time()\n",
    "\n",
    "print(\"Total Time Taken by python list: \",end_time-start_time)\n",
    "\n",
    "start_time = time.time()\n",
    "np_array = np_array *2\n",
    "end_time = time.time()\n",
    "\n",
    "print(\"Total Time Taken by numpy array: \",end_time-start_time)"
   ]
  },
  {
   "cell_type": "markdown",
   "metadata": {},
   "source": [
    "#### Numpy uses SIMD(Single Instruction Multiple Data). So, CPU performs single instruction(i.e multiplying by 2) to every element in the array without using a loop"
   ]
  },
  {
   "cell_type": "markdown",
   "metadata": {},
   "source": [
    "# Creating arrays from scratch\n"
   ]
  },
  {
   "cell_type": "code",
   "execution_count": null,
   "metadata": {},
   "outputs": [
    {
     "name": "stdout",
     "output_type": "stream",
     "text": [
      "Zeros array:\n",
      "  [[0. 0. 0. 0.]\n",
      " [0. 0. 0. 0.]\n",
      " [0. 0. 0. 0.]]\n",
      "Ones array:\n",
      "  [[1. 1. 1. 1.]\n",
      " [1. 1. 1. 1.]\n",
      " [1. 1. 1. 1.]]\n",
      "Full : \n",
      " [[[1 1]\n",
      "  [1 1]]\n",
      "\n",
      " [[1 1]\n",
      "  [1 1]]]\n",
      "Random Matrices:\n",
      " [[3.28836292 4.72492971 4.47224065]\n",
      " [1.29398921 4.12757979 7.42377034]]\n",
      "Sequence Vector:  [0 2 4 6 8]\n"
     ]
    }
   ],
   "source": [
    "import numpy as np\n",
    "zeros = np.zeros((3,4))\n",
    "print(\"Zeros array:\\n \",zeros)\n",
    "\n",
    "ones = np.ones((3,4))\n",
    "print(\"Ones array:\\n \",ones)\n",
    "\n",
    "full = np.full((2,2,2),1)\n",
    "print(\"Full : \\n\",full)\n",
    "\n",
    "random = np.random.random((2,3))\n",
    "print(\"Random Matrices:\\n\",(random*10))\n",
    "\n",
    "sequence = np.arange(0,10,2)\n",
    "print(\"Sequence Vector: \",sequence)\n",
    "\n"
   ]
  },
  {
   "cell_type": "markdown",
   "metadata": {},
   "source": [
    "# Vector, Matrices and Tensor"
   ]
  },
  {
   "cell_type": "markdown",
   "metadata": {},
   "source": [
    "### Vector\n",
    "#### => A vector is a one-dimensional array. It has only one axis "
   ]
  },
  {
   "cell_type": "code",
   "execution_count": 5,
   "metadata": {},
   "outputs": [
    {
     "name": "stdout",
     "output_type": "stream",
     "text": [
      "[1 2 3]\n"
     ]
    }
   ],
   "source": [
    "vector_1 = np.array([1,2,3])\n",
    "print(vector_1)"
   ]
  },
  {
   "cell_type": "markdown",
   "metadata": {},
   "source": [
    "### Matrices"
   ]
  },
  {
   "cell_type": "markdown",
   "metadata": {},
   "source": [
    "### => Matrices are 2D arrays, it means they have 2 axis(rows and columns)\n",
    "### => Used in ML for datasets and transformations"
   ]
  },
  {
   "cell_type": "code",
   "execution_count": 6,
   "metadata": {},
   "outputs": [
    {
     "name": "stdout",
     "output_type": "stream",
     "text": [
      "[[1 2 3]\n",
      " [4 5 6]]\n"
     ]
    }
   ],
   "source": [
    "matrices_1 = np.array([[1,2,3],[4,5,6]])\n",
    "print(matrices_1)"
   ]
  },
  {
   "cell_type": "markdown",
   "metadata": {},
   "source": [
    "### Tensors\n"
   ]
  },
  {
   "cell_type": "markdown",
   "metadata": {},
   "source": [
    "### =>Tensors are 3D,4D and higher dimensional arrays. They are used in image processing, videos etc"
   ]
  },
  {
   "cell_type": "code",
   "execution_count": 8,
   "metadata": {},
   "outputs": [
    {
     "name": "stdout",
     "output_type": "stream",
     "text": [
      "[[[ 1  2  3]\n",
      "  [ 4  5  6]]\n",
      "\n",
      " [[ 7  8  9]\n",
      "  [10 11 12]]]\n"
     ]
    }
   ],
   "source": [
    "tensor_1 = np.array([[[1,2,3],[4,5,6]],[[7,8,9],[10,11,12]]])\n",
    "print(tensor_1)"
   ]
  },
  {
   "cell_type": "markdown",
   "metadata": {},
   "source": [
    "# UNDERSTANDING IMAGE REPRESENTATION AS A 3D TENSOR"
   ]
  },
  {
   "cell_type": "code",
   "execution_count": null,
   "metadata": {},
   "outputs": [],
   "source": [
    "import numpy as np\n",
    "\n",
    "image_tensor = np.array([1,2,3,4,5],dtype= np.int8)"
   ]
  },
  {
   "cell_type": "code",
   "execution_count": null,
   "metadata": {},
   "outputs": [],
   "source": []
  }
 ],
 "metadata": {
  "kernelspec": {
   "display_name": "venv",
   "language": "python",
   "name": "python3"
  },
  "language_info": {
   "codemirror_mode": {
    "name": "ipython",
    "version": 3
   },
   "file_extension": ".py",
   "mimetype": "text/x-python",
   "name": "python",
   "nbconvert_exporter": "python",
   "pygments_lexer": "ipython3",
   "version": "3.12.9"
  }
 },
 "nbformat": 4,
 "nbformat_minor": 2
}
